{
  "nbformat": 4,
  "nbformat_minor": 0,
  "metadata": {
    "colab": {
      "provenance": []
    },
    "kernelspec": {
      "name": "python3",
      "display_name": "Python 3"
    },
    "language_info": {
      "name": "python"
    }
  },
  "cells": [
    {
      "cell_type": "code",
      "execution_count": 1,
      "metadata": {
        "colab": {
          "base_uri": "https://localhost:8080/"
        },
        "id": "-AIHCncO5nHl",
        "outputId": "1fd81976-67cb-4ab2-b86d-cd5919492b4a"
      },
      "outputs": [
        {
          "output_type": "stream",
          "name": "stdout",
          "text": [
            "hello world\n",
            "line a \n",
            " line b\n",
            "line a \t line b\n",
            "this is backslash\\\n",
            "helll\bo\n",
            " \\\" \\' \n"
          ]
        }
      ],
      "source": [
        "print (\"hello world\")\n",
        "\n",
        "# Escape Sequence\n",
        "\n",
        "print (\"line a \\n line b\")\n",
        "print(\"line a \\t line b\")\n",
        "print(\"this is backslash\\\\\")\n",
        "print (\"helll\\bo\")\n",
        "\n",
        "print (\" \\\\\\\" \\\\\\' \")"
      ]
    },
    {
      "cell_type": "code",
      "source": [
        "# Exercise 1 Chapter 1\n",
        "print(\"this is \\\\\\\\ double backslash\")\n",
        "print (\"these are /\\/\\/\\ mountains\")\n",
        "print(\"he is \\t awesome\")\n",
        "print(\" \\\\\\\" \\\\n \\\\t \\\\\\' \")"
      ],
      "metadata": {
        "colab": {
          "base_uri": "https://localhost:8080/"
        },
        "id": "LV11Jze96NqQ",
        "outputId": "53092f6e-2c82-43a8-be22-268eaf1c89d7"
      },
      "execution_count": 2,
      "outputs": [
        {
          "output_type": "stream",
          "name": "stdout",
          "text": [
            "this is \\\\ double backslash\n",
            "these are /\\/\\/\\ mountains\n",
            "he is \t awesome\n",
            " \\\" \\n \\t \\' \n"
          ]
        }
      ]
    },
    {
      "cell_type": "code",
      "source": [
        "#Calculations\n",
        "print(2+5)\n",
        "print(7-2)\n",
        "print((9*8)*2/4)"
      ],
      "metadata": {
        "colab": {
          "base_uri": "https://localhost:8080/"
        },
        "id": "TmYI31km6inp",
        "outputId": "e774efad-b165-41cf-c0cb-2a0fd34a3d0a"
      },
      "execution_count": 7,
      "outputs": [
        {
          "output_type": "stream",
          "name": "stdout",
          "text": [
            "7\n",
            "5\n",
            "36.0\n"
          ]
        }
      ]
    },
    {
      "cell_type": "code",
      "source": [
        "# Concatenation of strings\n",
        "firstname = \"manan\"\n",
        "lastname = \"jungwal\"\n",
        "fullname = firstname + lastname\n",
        "print (fullname)\n",
        "\n"
      ],
      "metadata": {
        "colab": {
          "base_uri": "https://localhost:8080/"
        },
        "id": "VQ2j92fl7TzR",
        "outputId": "c90e5a06-df64-4add-ecc8-3b27de6d1251"
      },
      "execution_count": 11,
      "outputs": [
        {
          "output_type": "stream",
          "name": "stdout",
          "text": [
            "mananjungwal\n"
          ]
        }
      ]
    },
    {
      "cell_type": "code",
      "source": [
        "# input from user\n",
        "name = input(\"what is ur name\")\n",
        "age = input(\"what is ur age\")\n",
        "print(name + age)\n"
      ],
      "metadata": {
        "colab": {
          "base_uri": "https://localhost:8080/"
        },
        "id": "uIIjJy5NGHYh",
        "outputId": "1546a60e-ce03-4b84-f23c-5e17a03740e1"
      },
      "execution_count": 12,
      "outputs": [
        {
          "output_type": "stream",
          "name": "stdout",
          "text": [
            "what is ur namemanan\n",
            "what is ur agejungwal\n",
            "mananjungwal\n"
          ]
        }
      ]
    },
    {
      "cell_type": "code",
      "source": [
        "# int() function\n",
        "number1 =int (input(\"1st number is\"))\n",
        "number2 = int(input(\"2nd number is\"))\n",
        "total = number1 + number2\n",
        "print (\"total_number\"+ str(total))\n"
      ],
      "metadata": {
        "colab": {
          "base_uri": "https://localhost:8080/"
        },
        "id": "h4gZk2WjHq0b",
        "outputId": "9d98f135-8be9-4f92-f35e-7f0d942ae51f"
      },
      "execution_count": 13,
      "outputs": [
        {
          "output_type": "stream",
          "name": "stdout",
          "text": [
            "1st number is9\n",
            "2nd number is8\n",
            "total_number17\n"
          ]
        }
      ]
    },
    {
      "cell_type": "code",
      "source": [
        "name , age = \"manan\" , \"21\"\n",
        "print(\"hello\"+name+\"ur age is\"+age)"
      ],
      "metadata": {
        "colab": {
          "base_uri": "https://localhost:8080/"
        },
        "id": "Oi7nvNYvJFR5",
        "outputId": "ebd5d1ee-b8ee-4075-d787-324f8d661eae"
      },
      "execution_count": 15,
      "outputs": [
        {
          "output_type": "stream",
          "name": "stdout",
          "text": [
            "hellomananur age is21\n"
          ]
        }
      ]
    },
    {
      "cell_type": "code",
      "source": [
        "#take 2 input at once\n",
        "name , age = input(\"ur name is and age\").split()\n",
        "print(name)\n",
        "print(age)"
      ],
      "metadata": {
        "colab": {
          "base_uri": "https://localhost:8080/"
        },
        "id": "gt74U3dbKcjE",
        "outputId": "4f84a642-554e-4096-861e-01743263ec7c"
      },
      "execution_count": 17,
      "outputs": [
        {
          "output_type": "stream",
          "name": "stdout",
          "text": [
            "ur name is and agemanan 21\n",
            "manan\n",
            "21\n"
          ]
        }
      ]
    },
    {
      "cell_type": "code",
      "source": [
        "# Chapter 2 exercise 1 \n",
        "# 1st part\n",
        "numb1 = int(input(\"enter 1st number\"))\n",
        "numb2 = int(input(\"enter 2nd number\"))\n",
        "numb3 = int(input(\"enter 3rd number\"))\n",
        "print((numb1 + numb2 + numb3)/3)\n",
        "\n"
      ],
      "metadata": {
        "colab": {
          "base_uri": "https://localhost:8080/"
        },
        "id": "-dJ6dUcZO-TA",
        "outputId": "0a8eb657-3723-4caa-ebdc-f7cd90176766"
      },
      "execution_count": 20,
      "outputs": [
        {
          "output_type": "stream",
          "name": "stdout",
          "text": [
            "enter 1st number6\n",
            "enter 2nd number8\n",
            "enter 3rd number16\n",
            "10.0\n"
          ]
        }
      ]
    },
    {
      "cell_type": "code",
      "source": [
        "# Slicing of string\n",
        "name = \"ABCDEFGHIJ\"\n",
        "print(name[2:3])\n",
        "print(name[1:])\n",
        "print(name[:3])\n",
        "# step argument\n",
        "print(name[1:6:3])"
      ],
      "metadata": {
        "colab": {
          "base_uri": "https://localhost:8080/"
        },
        "id": "0oi1Kh1nhPUF",
        "outputId": "48cc9e07-f31f-4734-e62b-65605258277f"
      },
      "execution_count": 34,
      "outputs": [
        {
          "output_type": "stream",
          "name": "stdout",
          "text": [
            "C\n",
            "BCDEFGHIJ\n",
            "ABC\n",
            "BE\n"
          ]
        }
      ]
    },
    {
      "cell_type": "code",
      "source": [
        "# chapter 2 exercise 2\n",
        "name = input(\"enter ur name\")\n",
        "print(name[::-1])"
      ],
      "metadata": {
        "colab": {
          "base_uri": "https://localhost:8080/"
        },
        "id": "cv584p66JOZr",
        "outputId": "7aa22408-e537-429a-c96d-cd9c313abb42"
      },
      "execution_count": 1,
      "outputs": [
        {
          "output_type": "stream",
          "name": "stdout",
          "text": [
            "enter ur namemanan\n",
            "nanam\n"
          ]
        }
      ]
    },
    {
      "cell_type": "code",
      "source": [
        "# string methods\n",
        "name = \"ManAN JunGwAl\"\n",
        "print(len(name)) #total words\n",
        "print(name.lower()) #all in small alphabets\n",
        "print(name.upper()) #all in big alpha.\n",
        "print(name.title()) #1st alpha capital rest small\n",
        "print(name.count(\"a\")) #to count 1 particular alphabet"
      ],
      "metadata": {
        "colab": {
          "base_uri": "https://localhost:8080/"
        },
        "id": "KYN3LcjeKo23",
        "outputId": "92ebdeb4-5029-4f8e-852d-f64ec10496b0"
      },
      "execution_count": 6,
      "outputs": [
        {
          "output_type": "stream",
          "name": "stdout",
          "text": [
            "13\n",
            "manan jungwal\n",
            "MANAN JUNGWAL\n",
            "Manan Jungwal\n",
            "1\n"
          ]
        }
      ]
    },
    {
      "cell_type": "code",
      "source": [
        "# Chapter 2 exercise 3\n",
        "name , single_character = input(\"enter ur name , alphabet\").split(\",\")\n",
        "print(\"lenght of ur name is\" , str(len(name)))\n",
        "print(\"alphabet is repeated\" , str(single_character.count(\"A\")))\n",
        "                                  "
      ],
      "metadata": {
        "colab": {
          "base_uri": "https://localhost:8080/"
        },
        "id": "oYQBgWyVMiyA",
        "outputId": "9bc31d9e-a846-47b1-b9a6-9e4a3cba8708"
      },
      "execution_count": 23,
      "outputs": [
        {
          "output_type": "stream",
          "name": "stdout",
          "text": [
            "enter ur name , alphabetMANAN,A\n",
            "lenght of ur name is 5\n",
            "alphabet is repeated 1\n"
          ]
        }
      ]
    },
    {
      "cell_type": "code",
      "source": [
        "# strip and replace to remove spaces\n",
        "name=\"    MA   nan   \"\n",
        "dots=\".........\"\n",
        "print(name + dots)\n",
        "print(name.lstrip()+dots) # removes left side space\n",
        "print(name.rstrip()+dots) #removes right side space\n",
        "print(name.strip()+dots) # removes both left and right\n",
        "print(name.replace(\" \",\"\")+dots) #removes space in between variable\n"
      ],
      "metadata": {
        "colab": {
          "base_uri": "https://localhost:8080/"
        },
        "id": "rUdFVU_HSLUG",
        "outputId": "5811adf1-9d3c-4fb9-8e34-c75472792983"
      },
      "execution_count": 27,
      "outputs": [
        {
          "output_type": "stream",
          "name": "stdout",
          "text": [
            "    MA   nan   .........\n",
            "MA   nan   .........\n",
            "    MA   nan.........\n",
            "MA   nan.........\n",
            "MAnan.........\n"
          ]
        }
      ]
    },
    {
      "cell_type": "code",
      "source": [
        "# find and replace method\n",
        "string = \"she is beautiful and she is good dancer\"\n",
        "print(string.replace(\"is\",\"was\",1)) # replace a word with something . 1 shows which is need to be replaced\n",
        "print(string.find(\"is\",5)) # to find the position of something . 5 specifies from which position given word needs to be found"
      ],
      "metadata": {
        "colab": {
          "base_uri": "https://localhost:8080/"
        },
        "id": "q-uoDmiCVAdr",
        "outputId": "f96dae8a-460f-4ef2-8775-12a79a7a4bb0"
      },
      "execution_count": 34,
      "outputs": [
        {
          "output_type": "stream",
          "name": "stdout",
          "text": [
            "she was beautiful and she is good dancer\n",
            "25\n"
          ]
        }
      ]
    },
    {
      "cell_type": "code",
      "source": [
        "# center method - to add something on sides of string\n",
        "name=input(\"enter ur name\") # name=\"manan\"\n",
        "print(name.center(len(name)+10 , \"#\")) # print(name.center(13 , \"#\"))"
      ],
      "metadata": {
        "colab": {
          "base_uri": "https://localhost:8080/"
        },
        "id": "rkMCGDOeW0Pk",
        "outputId": "66545d81-484c-40cb-d360-97ea0ca7f997"
      },
      "execution_count": 35,
      "outputs": [
        {
          "output_type": "stream",
          "name": "stdout",
          "text": [
            "enter ur namemanan\n",
            "#####manan#####\n"
          ]
        }
      ]
    },
    {
      "cell_type": "code",
      "source": [
        "# Assignment operator\n",
        "name = \"manan\"\n",
        "name += \"jungwal\"\n",
        "print(name)\n",
        "age = 21\n",
        "age *= 2\n",
        "print(age)"
      ],
      "metadata": {
        "colab": {
          "base_uri": "https://localhost:8080/"
        },
        "id": "SgyIVNfZZd09",
        "outputId": "b70ec063-8a29-41e8-d9ca-8dfc5b1d5017"
      },
      "execution_count": 37,
      "outputs": [
        {
          "output_type": "stream",
          "name": "stdout",
          "text": [
            "mananjungwal\n",
            "42\n"
          ]
        }
      ]
    },
    {
      "cell_type": "code",
      "source": [
        "# if else statement\n",
        "age = int(input(\"ur age is :\"))\n",
        "if age>15 :\n",
        "  print(\"you are eligible\")\n",
        "else:\n",
        "  print(\"you are not eligible\")"
      ],
      "metadata": {
        "colab": {
          "base_uri": "https://localhost:8080/"
        },
        "id": "jUNyI_LvlDFY",
        "outputId": "a48ff087-fcaa-4f83-93d7-b3d8b019895d"
      },
      "execution_count": 41,
      "outputs": [
        {
          "output_type": "stream",
          "name": "stdout",
          "text": [
            "ur age is :12\n",
            "you are not eligible\n"
          ]
        }
      ]
    },
    {
      "cell_type": "code",
      "source": [
        "# chapter 3 exercise 1\n",
        "winning_number=50\n",
        "number=int(input(\"guess a number:\"))\n",
        "if number==winning_number:\n",
        "  print(\"you win\")\n",
        "elif number>winning_number:\n",
        "  print(\"too high\")\n",
        "else:\n",
        "  print(\"too low\")"
      ],
      "metadata": {
        "colab": {
          "base_uri": "https://localhost:8080/"
        },
        "id": "D4KXuo5pnExR",
        "outputId": "8b26b641-6c14-4299-a675-d6361f2348e2"
      },
      "execution_count": 45,
      "outputs": [
        {
          "output_type": "stream",
          "name": "stdout",
          "text": [
            "guess a number:69\n",
            "too high\n"
          ]
        }
      ]
    },
    {
      "cell_type": "code",
      "source": [
        "# and , or opertor . for and operator both condition shud be true . then final answer is true . for or only 1 is needed to be true\n",
        "name = \"manan\"\n",
        "age = 21\n",
        "if name==\"manan\" and age==21:\n",
        "  print(\"condition true\")\n",
        "else:\n",
        "  print(\"condition false\")"
      ],
      "metadata": {
        "colab": {
          "base_uri": "https://localhost:8080/"
        },
        "id": "TSfpyrgSp8J6",
        "outputId": "11d30656-857e-4d8e-f638-714e59acbb49"
      },
      "execution_count": 46,
      "outputs": [
        {
          "output_type": "stream",
          "name": "stdout",
          "text": [
            "condition true\n"
          ]
        }
      ]
    },
    {
      "cell_type": "code",
      "source": [
        "# chapter 3 exercise 2\n",
        "name=input(\"enter ur name\")\n",
        "age=int(input(\"enter ur age\"))\n",
        "if age>10 and (name[0]=='a'or name[0]=='A'):\n",
        "  print(\"u can watch coco\")\n",
        "else:\n",
        "  print(\"u cant watch coco\")\n",
        "\n",
        "\n"
      ],
      "metadata": {
        "colab": {
          "base_uri": "https://localhost:8080/"
        },
        "id": "kulqX2aCqt97",
        "outputId": "87be4eed-118f-4a09-a62f-fb9f5e6a3bc7"
      },
      "execution_count": 51,
      "outputs": [
        {
          "output_type": "stream",
          "name": "stdout",
          "text": [
            "enter ur nameaman\n",
            "enter ur age19\n",
            "u can watch coco\n"
          ]
        }
      ]
    },
    {
      "cell_type": "code",
      "source": [
        "# if elif else statement\n",
        "age=int(input(\"enter ur age\"))\n",
        "if 0<age<=3:\n",
        "  print(\"ticket cost - 0\")\n",
        "elif 3<age<=10:\n",
        "  print(\"ticket cost - 150\")\n",
        "elif 10<age<=60:\n",
        "  print(\"ticket coat - 250\")\n",
        "else:\n",
        "  print(\"ticket cost - 200\")"
      ],
      "metadata": {
        "colab": {
          "base_uri": "https://localhost:8080/"
        },
        "id": "ZV-Jpdovu1cf",
        "outputId": "ecd2c289-a95e-4333-9c3e-2a272f547a8d"
      },
      "execution_count": 53,
      "outputs": [
        {
          "output_type": "stream",
          "name": "stdout",
          "text": [
            "enter ur age35\n",
            "ticket coat - 250\n"
          ]
        }
      ]
    },
    {
      "cell_type": "code",
      "source": [
        "# if with in\n",
        "name = \"manan\"\n",
        "if \"z\" in \"manan\":\n",
        "  print(\"z is present\")\n",
        "else:\n",
        "  print(\"z is absent\")"
      ],
      "metadata": {
        "colab": {
          "base_uri": "https://localhost:8080/"
        },
        "id": "v-4ogy8hwNqJ",
        "outputId": "2b49dd7b-4911-49ae-a0cf-42722714e028"
      },
      "execution_count": 58,
      "outputs": [
        {
          "output_type": "stream",
          "name": "stdout",
          "text": [
            "z is absent\n"
          ]
        }
      ]
    },
    {
      "cell_type": "code",
      "source": [
        "# check empty or not\n",
        "name = input(\"enter ur name\")\n",
        "if name:\n",
        "  print(\"your name is\")\n",
        "else:\n",
        "  print(\"you didnt type name\")"
      ],
      "metadata": {
        "colab": {
          "base_uri": "https://localhost:8080/"
        },
        "id": "KYXM6s22ybQU",
        "outputId": "a758a765-0f59-4a61-ba03-422764c41446"
      },
      "execution_count": 59,
      "outputs": [
        {
          "output_type": "stream",
          "name": "stdout",
          "text": [
            "enter ur name\n",
            "you didnt type name\n"
          ]
        }
      ]
    },
    {
      "cell_type": "code",
      "source": [
        "# while loop\n",
        "i = 1\n",
        "while i<=10:\n",
        "\n",
        "  print(\"hello world\")\n",
        "  i=i+1"
      ],
      "metadata": {
        "colab": {
          "base_uri": "https://localhost:8080/"
        },
        "id": "GwGfNxOf1KrS",
        "outputId": "4fbb6dd5-974d-436c-b518-c55f56d7ba78"
      },
      "execution_count": 63,
      "outputs": [
        {
          "output_type": "stream",
          "name": "stdout",
          "text": [
            "hello world\n",
            "hello world\n",
            "hello world\n",
            "hello world\n",
            "hello world\n",
            "hello world\n",
            "hello world\n",
            "hello world\n",
            "hello world\n",
            "hello world\n"
          ]
        }
      ]
    },
    {
      "cell_type": "code",
      "source": [
        "# sum of 1-20 using while loops\n",
        "total=0\n",
        "i=1\n",
        "while i<=20:\n",
        "  total+=i\n",
        "  i=i+1\n",
        "print(total)"
      ],
      "metadata": {
        "colab": {
          "base_uri": "https://localhost:8080/"
        },
        "id": "iNPesy3H3Q2y",
        "outputId": "b4a0a181-fd3f-47f1-d253-c20612e7ab2a"
      },
      "execution_count": 67,
      "outputs": [
        {
          "output_type": "stream",
          "name": "stdout",
          "text": [
            "210\n"
          ]
        }
      ]
    },
    {
      "cell_type": "code",
      "source": [
        "#chapter 3 exercise 3\n",
        "number=int(input(\"enter a natural number\"))\n",
        "total=0\n",
        "i=1\n",
        "while i<=number:\n",
        "  total+=i\n",
        "  i=i+1\n",
        "print(total)\n"
      ],
      "metadata": {
        "colab": {
          "base_uri": "https://localhost:8080/"
        },
        "id": "F8wV-edr5sm5",
        "outputId": "2612ce2e-1c22-4a09-c847-e53e39cea8c8"
      },
      "execution_count": 68,
      "outputs": [
        {
          "output_type": "stream",
          "name": "stdout",
          "text": [
            "enter a natural number5\n",
            "15\n"
          ]
        }
      ]
    },
    {
      "cell_type": "code",
      "source": [
        "# chapter 3 exercise 4\n",
        "number=input(\"enter a number\")\n",
        "total=0\n",
        "i=0\n",
        "while i<len(number):\n",
        "  total+=int(number[i])\n",
        "  i=i+1\n",
        "print(total)\n"
      ],
      "metadata": {
        "colab": {
          "base_uri": "https://localhost:8080/"
        },
        "id": "kEdL-cAY6SWC",
        "outputId": "c1b9eda2-cb09-4e97-daf6-bf3ab7a2f6c9"
      },
      "execution_count": 72,
      "outputs": [
        {
          "output_type": "stream",
          "name": "stdout",
          "text": [
            "enter a number234\n",
            "9\n"
          ]
        }
      ]
    },
    {
      "cell_type": "code",
      "source": [
        "# chapter 3 exercise 5\n",
        "name=input(\"enter a name\")\n",
        "temp_var=\"\"\n",
        "i=0\n",
        "while i<len(name):\n",
        "  if name[i] not in temp_var:\n",
        "    temp_var +=name[i]\n",
        "    print(f\"{name[i]} : {name.count(name[i])}\")\n",
        "  i+=1"
      ],
      "metadata": {
        "colab": {
          "base_uri": "https://localhost:8080/"
        },
        "id": "oJSW52tivmem",
        "outputId": "a0810213-d4f9-417f-d88e-dca6efc98266"
      },
      "execution_count": 82,
      "outputs": [
        {
          "output_type": "stream",
          "name": "stdout",
          "text": [
            "enter a namemanan\n",
            "m : 1\n",
            "a : 2\n",
            "n : 2\n"
          ]
        }
      ]
    },
    {
      "cell_type": "code",
      "source": [
        "# infinite loop\n",
        "while True:\n",
        "  print(\"hello world\")"
      ],
      "metadata": {
        "id": "OyzsHiJ8E-7r"
      },
      "execution_count": null,
      "outputs": []
    },
    {
      "cell_type": "code",
      "source": [
        "# for loop\n",
        "for i in range(5):\n",
        "  print(\"manan\")\n",
        "  print(\"lpu\")"
      ],
      "metadata": {
        "colab": {
          "base_uri": "https://localhost:8080/"
        },
        "id": "xuI43Y97Gu83",
        "outputId": "d303db0d-c636-4606-8ec4-359636708425"
      },
      "execution_count": 85,
      "outputs": [
        {
          "output_type": "stream",
          "name": "stdout",
          "text": [
            "manan\n",
            "lpu\n",
            "manan\n",
            "lpu\n",
            "manan\n",
            "lpu\n",
            "manan\n",
            "lpu\n",
            "manan\n",
            "lpu\n"
          ]
        }
      ]
    }
  ]
}